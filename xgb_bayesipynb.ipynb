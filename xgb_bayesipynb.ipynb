{
  "nbformat": 4,
  "nbformat_minor": 0,
  "metadata": {
    "colab": {
      "name": "xgb_bayesipynb",
      "provenance": [],
      "toc_visible": true,
      "authorship_tag": "ABX9TyMcVdhyeVuz6sNLbVbXnJWl",
      "include_colab_link": true
    },
    "kernelspec": {
      "name": "python3",
      "display_name": "Python 3"
    },
    "language_info": {
      "name": "python"
    }
  },
  "cells": [
    {
      "cell_type": "markdown",
      "metadata": {
        "id": "view-in-github",
        "colab_type": "text"
      },
      "source": [
        "<a href=\"https://colab.research.google.com/github/mizutokage/Kaglle/blob/main/xgb_bayesipynb.ipynb\" target=\"_parent\"><img src=\"https://colab.research.google.com/assets/colab-badge.svg\" alt=\"Open In Colab\"/></a>"
      ]
    },
    {
      "cell_type": "code",
      "metadata": {
        "id": "m1uFmJups7rW"
      },
      "source": [
        "import pandas as pd\n",
        "import numpy as np\n",
        "\n",
        "from sklearn.model_selection import train_test_split\n",
        "from sklearn.metrics import accuracy_score, confusion_matrix\n",
        "from sklearn.model_selection import GridSearchCV, RandomizedSearchCV, KFold\n",
        "\n",
        "import xgboost as xgb\n",
        "\n",
        "%matplotlib inline"
      ],
      "execution_count": 235,
      "outputs": []
    },
    {
      "cell_type": "code",
      "metadata": {
        "id": "l1YuMXoe3wZF"
      },
      "source": [
        "df = pd.read_csv(\"train.csv\", index_col='PassengerId')\n",
        "\n",
        "df = df[['Survived', 'Pclass', 'Age',\n",
        "         'SibSp', 'Parch', 'Fare']]"
      ],
      "execution_count": 236,
      "outputs": []
    },
    {
      "cell_type": "code",
      "metadata": {
        "colab": {
          "base_uri": "https://localhost:8080/",
          "height": 450
        },
        "id": "hZJbmThz4ghi",
        "outputId": "b8a9df8a-9b34-4c42-ae29-cffb808a9327"
      },
      "source": [
        "df.fillna(df['Age'].mean())"
      ],
      "execution_count": 275,
      "outputs": [
        {
          "output_type": "execute_result",
          "data": {
            "text/html": [
              "<div>\n",
              "<style scoped>\n",
              "    .dataframe tbody tr th:only-of-type {\n",
              "        vertical-align: middle;\n",
              "    }\n",
              "\n",
              "    .dataframe tbody tr th {\n",
              "        vertical-align: top;\n",
              "    }\n",
              "\n",
              "    .dataframe thead th {\n",
              "        text-align: right;\n",
              "    }\n",
              "</style>\n",
              "<table border=\"1\" class=\"dataframe\">\n",
              "  <thead>\n",
              "    <tr style=\"text-align: right;\">\n",
              "      <th></th>\n",
              "      <th>Survived</th>\n",
              "      <th>Pclass</th>\n",
              "      <th>Age</th>\n",
              "      <th>SibSp</th>\n",
              "      <th>Parch</th>\n",
              "      <th>Fare</th>\n",
              "    </tr>\n",
              "    <tr>\n",
              "      <th>PassengerId</th>\n",
              "      <th></th>\n",
              "      <th></th>\n",
              "      <th></th>\n",
              "      <th></th>\n",
              "      <th></th>\n",
              "      <th></th>\n",
              "    </tr>\n",
              "  </thead>\n",
              "  <tbody>\n",
              "    <tr>\n",
              "      <th>1</th>\n",
              "      <td>0</td>\n",
              "      <td>3</td>\n",
              "      <td>22.000000</td>\n",
              "      <td>1</td>\n",
              "      <td>0</td>\n",
              "      <td>7.2500</td>\n",
              "    </tr>\n",
              "    <tr>\n",
              "      <th>2</th>\n",
              "      <td>1</td>\n",
              "      <td>1</td>\n",
              "      <td>38.000000</td>\n",
              "      <td>1</td>\n",
              "      <td>0</td>\n",
              "      <td>71.2833</td>\n",
              "    </tr>\n",
              "    <tr>\n",
              "      <th>3</th>\n",
              "      <td>1</td>\n",
              "      <td>3</td>\n",
              "      <td>26.000000</td>\n",
              "      <td>0</td>\n",
              "      <td>0</td>\n",
              "      <td>7.9250</td>\n",
              "    </tr>\n",
              "    <tr>\n",
              "      <th>4</th>\n",
              "      <td>1</td>\n",
              "      <td>1</td>\n",
              "      <td>35.000000</td>\n",
              "      <td>1</td>\n",
              "      <td>0</td>\n",
              "      <td>53.1000</td>\n",
              "    </tr>\n",
              "    <tr>\n",
              "      <th>5</th>\n",
              "      <td>0</td>\n",
              "      <td>3</td>\n",
              "      <td>35.000000</td>\n",
              "      <td>0</td>\n",
              "      <td>0</td>\n",
              "      <td>8.0500</td>\n",
              "    </tr>\n",
              "    <tr>\n",
              "      <th>...</th>\n",
              "      <td>...</td>\n",
              "      <td>...</td>\n",
              "      <td>...</td>\n",
              "      <td>...</td>\n",
              "      <td>...</td>\n",
              "      <td>...</td>\n",
              "    </tr>\n",
              "    <tr>\n",
              "      <th>887</th>\n",
              "      <td>0</td>\n",
              "      <td>2</td>\n",
              "      <td>27.000000</td>\n",
              "      <td>0</td>\n",
              "      <td>0</td>\n",
              "      <td>13.0000</td>\n",
              "    </tr>\n",
              "    <tr>\n",
              "      <th>888</th>\n",
              "      <td>1</td>\n",
              "      <td>1</td>\n",
              "      <td>19.000000</td>\n",
              "      <td>0</td>\n",
              "      <td>0</td>\n",
              "      <td>30.0000</td>\n",
              "    </tr>\n",
              "    <tr>\n",
              "      <th>889</th>\n",
              "      <td>0</td>\n",
              "      <td>3</td>\n",
              "      <td>29.699118</td>\n",
              "      <td>1</td>\n",
              "      <td>2</td>\n",
              "      <td>23.4500</td>\n",
              "    </tr>\n",
              "    <tr>\n",
              "      <th>890</th>\n",
              "      <td>1</td>\n",
              "      <td>1</td>\n",
              "      <td>26.000000</td>\n",
              "      <td>0</td>\n",
              "      <td>0</td>\n",
              "      <td>30.0000</td>\n",
              "    </tr>\n",
              "    <tr>\n",
              "      <th>891</th>\n",
              "      <td>0</td>\n",
              "      <td>3</td>\n",
              "      <td>32.000000</td>\n",
              "      <td>0</td>\n",
              "      <td>0</td>\n",
              "      <td>7.7500</td>\n",
              "    </tr>\n",
              "  </tbody>\n",
              "</table>\n",
              "<p>891 rows × 6 columns</p>\n",
              "</div>"
            ],
            "text/plain": [
              "             Survived  Pclass        Age  SibSp  Parch     Fare\n",
              "PassengerId                                                    \n",
              "1                   0       3  22.000000      1      0   7.2500\n",
              "2                   1       1  38.000000      1      0  71.2833\n",
              "3                   1       3  26.000000      0      0   7.9250\n",
              "4                   1       1  35.000000      1      0  53.1000\n",
              "5                   0       3  35.000000      0      0   8.0500\n",
              "...               ...     ...        ...    ...    ...      ...\n",
              "887                 0       2  27.000000      0      0  13.0000\n",
              "888                 1       1  19.000000      0      0  30.0000\n",
              "889                 0       3  29.699118      1      2  23.4500\n",
              "890                 1       1  26.000000      0      0  30.0000\n",
              "891                 0       3  32.000000      0      0   7.7500\n",
              "\n",
              "[891 rows x 6 columns]"
            ]
          },
          "metadata": {
            "tags": []
          },
          "execution_count": 275
        }
      ]
    },
    {
      "cell_type": "code",
      "metadata": {
        "id": "3f2ZrN3I6gJU"
      },
      "source": [
        "X = df.drop(['Survived'], axis=1)\n",
        "y = df['Survived']"
      ],
      "execution_count": 276,
      "outputs": []
    },
    {
      "cell_type": "code",
      "metadata": {
        "colab": {
          "base_uri": "https://localhost:8080/",
          "height": 235
        },
        "id": "kh1XmPPm48vK",
        "outputId": "7edf4d64-7b94-4769-e440-0d516439675c"
      },
      "source": [
        "seed = 88\n",
        "X_train, X_test, y_train, y_test = train_test_split(X, y, test_size=.3, random_state=seed)\n",
        "\n",
        "X_train.head()"
      ],
      "execution_count": 277,
      "outputs": [
        {
          "output_type": "execute_result",
          "data": {
            "text/html": [
              "<div>\n",
              "<style scoped>\n",
              "    .dataframe tbody tr th:only-of-type {\n",
              "        vertical-align: middle;\n",
              "    }\n",
              "\n",
              "    .dataframe tbody tr th {\n",
              "        vertical-align: top;\n",
              "    }\n",
              "\n",
              "    .dataframe thead th {\n",
              "        text-align: right;\n",
              "    }\n",
              "</style>\n",
              "<table border=\"1\" class=\"dataframe\">\n",
              "  <thead>\n",
              "    <tr style=\"text-align: right;\">\n",
              "      <th></th>\n",
              "      <th>Pclass</th>\n",
              "      <th>Age</th>\n",
              "      <th>SibSp</th>\n",
              "      <th>Parch</th>\n",
              "      <th>Fare</th>\n",
              "    </tr>\n",
              "    <tr>\n",
              "      <th>PassengerId</th>\n",
              "      <th></th>\n",
              "      <th></th>\n",
              "      <th></th>\n",
              "      <th></th>\n",
              "      <th></th>\n",
              "    </tr>\n",
              "  </thead>\n",
              "  <tbody>\n",
              "    <tr>\n",
              "      <th>791</th>\n",
              "      <td>3</td>\n",
              "      <td>NaN</td>\n",
              "      <td>0</td>\n",
              "      <td>0</td>\n",
              "      <td>7.7500</td>\n",
              "    </tr>\n",
              "    <tr>\n",
              "      <th>476</th>\n",
              "      <td>1</td>\n",
              "      <td>NaN</td>\n",
              "      <td>0</td>\n",
              "      <td>0</td>\n",
              "      <td>52.0000</td>\n",
              "    </tr>\n",
              "    <tr>\n",
              "      <th>809</th>\n",
              "      <td>2</td>\n",
              "      <td>39.0</td>\n",
              "      <td>0</td>\n",
              "      <td>0</td>\n",
              "      <td>13.0000</td>\n",
              "    </tr>\n",
              "    <tr>\n",
              "      <th>330</th>\n",
              "      <td>1</td>\n",
              "      <td>16.0</td>\n",
              "      <td>0</td>\n",
              "      <td>1</td>\n",
              "      <td>57.9792</td>\n",
              "    </tr>\n",
              "    <tr>\n",
              "      <th>218</th>\n",
              "      <td>2</td>\n",
              "      <td>42.0</td>\n",
              "      <td>1</td>\n",
              "      <td>0</td>\n",
              "      <td>27.0000</td>\n",
              "    </tr>\n",
              "  </tbody>\n",
              "</table>\n",
              "</div>"
            ],
            "text/plain": [
              "             Pclass   Age  SibSp  Parch     Fare\n",
              "PassengerId                                     \n",
              "791               3   NaN      0      0   7.7500\n",
              "476               1   NaN      0      0  52.0000\n",
              "809               2  39.0      0      0  13.0000\n",
              "330               1  16.0      0      1  57.9792\n",
              "218               2  42.0      1      0  27.0000"
            ]
          },
          "metadata": {
            "tags": []
          },
          "execution_count": 277
        }
      ]
    },
    {
      "cell_type": "code",
      "metadata": {
        "id": "_t5EjP0e5FdE"
      },
      "source": [
        "from bayes_opt import BayesianOptimization"
      ],
      "execution_count": 278,
      "outputs": []
    },
    {
      "cell_type": "code",
      "metadata": {
        "id": "xl5P_-MF5JhU"
      },
      "source": [
        "def xgb_evaluate(min_child_weight, subsample, colsample_bytree, max_depth):\n",
        "      params = {'metric': 'error',\n",
        "              'objective':'binary:logistic',\n",
        "              'n_estimators':50000,\n",
        "              'random_state':42,\n",
        "              'boosting_type':'gbdt',\n",
        "              'learning_rate':0.01,              \n",
        "              'min_child_weight': int(min_child_weight),\n",
        "              'max_depth': int(max_depth),\n",
        "              'colsample_bytree': colsample_bytree,\n",
        "              'subsample': subsample,\n",
        "             }\n",
        "\n",
        "      cls = xgb.XGBClassifier()\n",
        "      cls.set_params(**params)\n",
        "      cls.fit(X_train,\n",
        "              y_train,\n",
        "              early_stopping_rounds=50,\n",
        "              eval_set=[(X_test, y_test)],\n",
        "              eval_metric='error',\n",
        "              verbose=0)\n",
        "      \n",
        "      pred = cls.predict(X_test)\n",
        "      score = accuracy_score(y_test, pred)\n",
        "      return score"
      ],
      "execution_count": 279,
      "outputs": []
    },
    {
      "cell_type": "code",
      "metadata": {
        "id": "ZJpCZ3KP57BE"
      },
      "source": [
        "xgb_bo = BayesianOptimization(xgb_evaluate,\n",
        "                              {'min_child_weight': (1, 20),\n",
        "                               'subsample': (.1, 1),\n",
        "                               'colsample_bytree': (.1, 1),\n",
        "                               'max_depth': (1, 50)},\n",
        "                               random_state=10)"
      ],
      "execution_count": 280,
      "outputs": []
    },
    {
      "cell_type": "code",
      "metadata": {
        "colab": {
          "base_uri": "https://localhost:8080/"
        },
        "id": "a5km6AxT7STF",
        "outputId": "7ff88961-2caf-4d2f-b016-23e8908689a8"
      },
      "source": [
        "xgb_bo.maximize(init_points=15, n_iter=50, acq='ei')"
      ],
      "execution_count": 281,
      "outputs": [
        {
          "output_type": "stream",
          "text": [
            "|   iter    |  target   | colsam... | max_depth | min_ch... | subsample |\n",
            "-------------------------------------------------------------------------\n",
            "| \u001b[0m 1       \u001b[0m | \u001b[0m 0.7127  \u001b[0m | \u001b[0m 0.7942  \u001b[0m | \u001b[0m 2.017   \u001b[0m | \u001b[0m 13.04   \u001b[0m | \u001b[0m 0.7739  \u001b[0m |\n",
            "| \u001b[95m 2       \u001b[0m | \u001b[95m 0.7313  \u001b[0m | \u001b[95m 0.5487  \u001b[0m | \u001b[95m 12.02   \u001b[0m | \u001b[95m 4.763   \u001b[0m | \u001b[95m 0.7845  \u001b[0m |\n",
            "| \u001b[0m 3       \u001b[0m | \u001b[0m 0.7276  \u001b[0m | \u001b[0m 0.2522  \u001b[0m | \u001b[0m 5.329   \u001b[0m | \u001b[0m 14.02   \u001b[0m | \u001b[0m 0.9581  \u001b[0m |\n",
            "| \u001b[0m 4       \u001b[0m | \u001b[0m 0.7164  \u001b[0m | \u001b[0m 0.1036  \u001b[0m | \u001b[0m 26.1    \u001b[0m | \u001b[0m 16.44   \u001b[0m | \u001b[0m 0.6513  \u001b[0m |\n",
            "| \u001b[0m 5       \u001b[0m | \u001b[0m 0.6828  \u001b[0m | \u001b[0m 0.7496  \u001b[0m | \u001b[0m 15.3    \u001b[0m | \u001b[0m 18.44   \u001b[0m | \u001b[0m 0.7431  \u001b[0m |\n",
            "| \u001b[0m 6       \u001b[0m | \u001b[0m 0.7313  \u001b[0m | \u001b[0m 0.5883  \u001b[0m | \u001b[0m 7.966   \u001b[0m | \u001b[0m 8.093   \u001b[0m | \u001b[0m 0.7067  \u001b[0m |\n",
            "| \u001b[0m 7       \u001b[0m | \u001b[0m 0.7052  \u001b[0m | \u001b[0m 0.4976  \u001b[0m | \u001b[0m 22.27   \u001b[0m | \u001b[0m 12.74   \u001b[0m | \u001b[0m 0.5618  \u001b[0m |\n",
            "| \u001b[0m 8       \u001b[0m | \u001b[0m 0.694   \u001b[0m | \u001b[0m 0.6854  \u001b[0m | \u001b[0m 30.45   \u001b[0m | \u001b[0m 16.3    \u001b[0m | \u001b[0m 0.5695  \u001b[0m |\n",
            "| \u001b[0m 9       \u001b[0m | \u001b[0m 0.7201  \u001b[0m | \u001b[0m 0.9178  \u001b[0m | \u001b[0m 16.64   \u001b[0m | \u001b[0m 2.719   \u001b[0m | \u001b[0m 0.3706  \u001b[0m |\n",
            "| \u001b[0m 10      \u001b[0m | \u001b[0m 0.7276  \u001b[0m | \u001b[0m 0.2026  \u001b[0m | \u001b[0m 41.61   \u001b[0m | \u001b[0m 1.891   \u001b[0m | \u001b[0m 0.6637  \u001b[0m |\n",
            "| \u001b[0m 11      \u001b[0m | \u001b[0m 0.7313  \u001b[0m | \u001b[0m 0.5928  \u001b[0m | \u001b[0m 41.15   \u001b[0m | \u001b[0m 4.78    \u001b[0m | \u001b[0m 0.8712  \u001b[0m |\n",
            "| \u001b[95m 12      \u001b[0m | \u001b[95m 0.7388  \u001b[0m | \u001b[95m 0.4165  \u001b[0m | \u001b[95m 37.98   \u001b[0m | \u001b[95m 6.623   \u001b[0m | \u001b[95m 0.8955  \u001b[0m |\n",
            "| \u001b[0m 13      \u001b[0m | \u001b[0m 0.7388  \u001b[0m | \u001b[0m 0.393   \u001b[0m | \u001b[0m 9.086   \u001b[0m | \u001b[0m 8.458   \u001b[0m | \u001b[0m 0.1841  \u001b[0m |\n",
            "| \u001b[0m 14      \u001b[0m | \u001b[0m 0.7239  \u001b[0m | \u001b[0m 0.839   \u001b[0m | \u001b[0m 8.406   \u001b[0m | \u001b[0m 8.298   \u001b[0m | \u001b[0m 0.9498  \u001b[0m |\n",
            "| \u001b[0m 15      \u001b[0m | \u001b[0m 0.7052  \u001b[0m | \u001b[0m 0.9889  \u001b[0m | \u001b[0m 23.36   \u001b[0m | \u001b[0m 16.7    \u001b[0m | \u001b[0m 0.3262  \u001b[0m |\n",
            "| \u001b[0m 16      \u001b[0m | \u001b[0m 0.7164  \u001b[0m | \u001b[0m 0.109   \u001b[0m | \u001b[0m 50.0    \u001b[0m | \u001b[0m 19.11   \u001b[0m | \u001b[0m 0.31    \u001b[0m |\n",
            "| \u001b[0m 17      \u001b[0m | \u001b[0m 0.7313  \u001b[0m | \u001b[0m 0.1606  \u001b[0m | \u001b[0m 2.536   \u001b[0m | \u001b[0m 1.013   \u001b[0m | \u001b[0m 0.1548  \u001b[0m |\n",
            "| \u001b[0m 18      \u001b[0m | \u001b[0m 0.7351  \u001b[0m | \u001b[0m 0.1656  \u001b[0m | \u001b[0m 38.07   \u001b[0m | \u001b[0m 6.292   \u001b[0m | \u001b[0m 0.1546  \u001b[0m |\n",
            "| \u001b[0m 19      \u001b[0m | \u001b[0m 0.7201  \u001b[0m | \u001b[0m 0.1832  \u001b[0m | \u001b[0m 33.4    \u001b[0m | \u001b[0m 1.446   \u001b[0m | \u001b[0m 0.9611  \u001b[0m |\n",
            "| \u001b[0m 20      \u001b[0m | \u001b[0m 0.7239  \u001b[0m | \u001b[0m 0.1579  \u001b[0m | \u001b[0m 49.46   \u001b[0m | \u001b[0m 7.57    \u001b[0m | \u001b[0m 0.9997  \u001b[0m |\n",
            "| \u001b[0m 21      \u001b[0m | \u001b[0m 0.7388  \u001b[0m | \u001b[0m 0.2737  \u001b[0m | \u001b[0m 10.16   \u001b[0m | \u001b[0m 1.353   \u001b[0m | \u001b[0m 0.1161  \u001b[0m |\n",
            "| \u001b[0m 22      \u001b[0m | \u001b[0m 0.7276  \u001b[0m | \u001b[0m 0.1277  \u001b[0m | \u001b[0m 8.336   \u001b[0m | \u001b[0m 7.513   \u001b[0m | \u001b[0m 0.2164  \u001b[0m |\n",
            "| \u001b[0m 23      \u001b[0m | \u001b[0m 0.653   \u001b[0m | \u001b[0m 0.5329  \u001b[0m | \u001b[0m 6.383   \u001b[0m | \u001b[0m 12.93   \u001b[0m | \u001b[0m 0.1022  \u001b[0m |\n",
            "| \u001b[0m 24      \u001b[0m | \u001b[0m 0.6903  \u001b[0m | \u001b[0m 0.1     \u001b[0m | \u001b[0m 1.0     \u001b[0m | \u001b[0m 20.0    \u001b[0m | \u001b[0m 1.0     \u001b[0m |\n",
            "| \u001b[0m 25      \u001b[0m | \u001b[0m 0.7164  \u001b[0m | \u001b[0m 0.1     \u001b[0m | \u001b[0m 40.43   \u001b[0m | \u001b[0m 20.0    \u001b[0m | \u001b[0m 1.0     \u001b[0m |\n",
            "| \u001b[0m 26      \u001b[0m | \u001b[0m 0.7239  \u001b[0m | \u001b[0m 0.8275  \u001b[0m | \u001b[0m 49.98   \u001b[0m | \u001b[0m 1.061   \u001b[0m | \u001b[0m 0.2207  \u001b[0m |\n",
            "| \u001b[0m 27      \u001b[0m | \u001b[0m 0.7201  \u001b[0m | \u001b[0m 0.1     \u001b[0m | \u001b[0m 14.21   \u001b[0m | \u001b[0m 10.71   \u001b[0m | \u001b[0m 1.0     \u001b[0m |\n",
            "| \u001b[0m 28      \u001b[0m | \u001b[0m 0.7239  \u001b[0m | \u001b[0m 0.1     \u001b[0m | \u001b[0m 1.0     \u001b[0m | \u001b[0m 7.282   \u001b[0m | \u001b[0m 1.0     \u001b[0m |\n",
            "| \u001b[0m 29      \u001b[0m | \u001b[0m 0.7164  \u001b[0m | \u001b[0m 0.9637  \u001b[0m | \u001b[0m 43.7    \u001b[0m | \u001b[0m 13.47   \u001b[0m | \u001b[0m 0.4772  \u001b[0m |\n",
            "| \u001b[0m 30      \u001b[0m | \u001b[0m 0.7164  \u001b[0m | \u001b[0m 0.1     \u001b[0m | \u001b[0m 20.62   \u001b[0m | \u001b[0m 20.0    \u001b[0m | \u001b[0m 1.0     \u001b[0m |\n",
            "| \u001b[0m 31      \u001b[0m | \u001b[0m 0.653   \u001b[0m | \u001b[0m 0.1     \u001b[0m | \u001b[0m 30.68   \u001b[0m | \u001b[0m 8.251   \u001b[0m | \u001b[0m 0.1     \u001b[0m |\n",
            "| \u001b[0m 32      \u001b[0m | \u001b[0m 0.7313  \u001b[0m | \u001b[0m 1.0     \u001b[0m | \u001b[0m 36.94   \u001b[0m | \u001b[0m 1.0     \u001b[0m | \u001b[0m 0.1     \u001b[0m |\n",
            "| \u001b[0m 33      \u001b[0m | \u001b[0m 0.7276  \u001b[0m | \u001b[0m 0.747   \u001b[0m | \u001b[0m 13.14   \u001b[0m | \u001b[0m 1.011   \u001b[0m | \u001b[0m 0.1266  \u001b[0m |\n",
            "| \u001b[95m 34      \u001b[0m | \u001b[95m 0.7425  \u001b[0m | \u001b[95m 0.1812  \u001b[0m | \u001b[95m 14.39   \u001b[0m | \u001b[95m 6.224   \u001b[0m | \u001b[95m 0.136   \u001b[0m |\n",
            "| \u001b[0m 35      \u001b[0m | \u001b[0m 0.7239  \u001b[0m | \u001b[0m 0.1     \u001b[0m | \u001b[0m 2.763   \u001b[0m | \u001b[0m 11.88   \u001b[0m | \u001b[0m 1.0     \u001b[0m |\n",
            "| \u001b[0m 36      \u001b[0m | \u001b[0m 0.7388  \u001b[0m | \u001b[0m 0.9911  \u001b[0m | \u001b[0m 5.332   \u001b[0m | \u001b[0m 1.612   \u001b[0m | \u001b[0m 0.9236  \u001b[0m |\n",
            "| \u001b[0m 37      \u001b[0m | \u001b[0m 0.6418  \u001b[0m | \u001b[0m 0.9711  \u001b[0m | \u001b[0m 1.182   \u001b[0m | \u001b[0m 1.708   \u001b[0m | \u001b[0m 0.7161  \u001b[0m |\n",
            "| \u001b[0m 38      \u001b[0m | \u001b[0m 0.7201  \u001b[0m | \u001b[0m 0.1025  \u001b[0m | \u001b[0m 4.114   \u001b[0m | \u001b[0m 16.79   \u001b[0m | \u001b[0m 0.9752  \u001b[0m |\n",
            "| \u001b[0m 39      \u001b[0m | \u001b[0m 0.7239  \u001b[0m | \u001b[0m 0.2975  \u001b[0m | \u001b[0m 5.335   \u001b[0m | \u001b[0m 1.01    \u001b[0m | \u001b[0m 0.6572  \u001b[0m |\n",
            "| \u001b[0m 40      \u001b[0m | \u001b[0m 0.7127  \u001b[0m | \u001b[0m 1.0     \u001b[0m | \u001b[0m 4.91    \u001b[0m | \u001b[0m 3.419   \u001b[0m | \u001b[0m 0.1     \u001b[0m |\n",
            "| \u001b[0m 41      \u001b[0m | \u001b[0m 0.7313  \u001b[0m | \u001b[0m 1.0     \u001b[0m | \u001b[0m 25.22   \u001b[0m | \u001b[0m 1.0     \u001b[0m | \u001b[0m 0.1     \u001b[0m |\n",
            "| \u001b[0m 42      \u001b[0m | \u001b[0m 0.653   \u001b[0m | \u001b[0m 0.3348  \u001b[0m | \u001b[0m 30.38   \u001b[0m | \u001b[0m 19.97   \u001b[0m | \u001b[0m 0.1357  \u001b[0m |\n",
            "| \u001b[0m 43      \u001b[0m | \u001b[0m 0.7239  \u001b[0m | \u001b[0m 0.1142  \u001b[0m | \u001b[0m 38.57   \u001b[0m | \u001b[0m 12.25   \u001b[0m | \u001b[0m 0.9474  \u001b[0m |\n",
            "| \u001b[0m 44      \u001b[0m | \u001b[0m 0.6791  \u001b[0m | \u001b[0m 1.0     \u001b[0m | \u001b[0m 50.0    \u001b[0m | \u001b[0m 13.81   \u001b[0m | \u001b[0m 1.0     \u001b[0m |\n",
            "| \u001b[0m 45      \u001b[0m | \u001b[0m 0.7388  \u001b[0m | \u001b[0m 0.9468  \u001b[0m | \u001b[0m 8.912   \u001b[0m | \u001b[0m 1.109   \u001b[0m | \u001b[0m 0.1092  \u001b[0m |\n",
            "| \u001b[0m 46      \u001b[0m | \u001b[0m 0.6754  \u001b[0m | \u001b[0m 1.0     \u001b[0m | \u001b[0m 45.95   \u001b[0m | \u001b[0m 20.0    \u001b[0m | \u001b[0m 1.0     \u001b[0m |\n",
            "| \u001b[0m 47      \u001b[0m | \u001b[0m 0.7201  \u001b[0m | \u001b[0m 0.1     \u001b[0m | \u001b[0m 21.67   \u001b[0m | \u001b[0m 1.0     \u001b[0m | \u001b[0m 0.1     \u001b[0m |\n",
            "| \u001b[0m 48      \u001b[0m | \u001b[0m 0.653   \u001b[0m | \u001b[0m 0.1695  \u001b[0m | \u001b[0m 45.76   \u001b[0m | \u001b[0m 9.54    \u001b[0m | \u001b[0m 0.121   \u001b[0m |\n",
            "| \u001b[0m 49      \u001b[0m | \u001b[0m 0.7052  \u001b[0m | \u001b[0m 0.9404  \u001b[0m | \u001b[0m 39.0    \u001b[0m | \u001b[0m 16.44   \u001b[0m | \u001b[0m 0.2314  \u001b[0m |\n",
            "| \u001b[0m 50      \u001b[0m | \u001b[0m 0.7313  \u001b[0m | \u001b[0m 0.1     \u001b[0m | \u001b[0m 42.76   \u001b[0m | \u001b[0m 15.96   \u001b[0m | \u001b[0m 1.0     \u001b[0m |\n",
            "| \u001b[0m 51      \u001b[0m | \u001b[0m 0.6978  \u001b[0m | \u001b[0m 1.0     \u001b[0m | \u001b[0m 50.0    \u001b[0m | \u001b[0m 4.078   \u001b[0m | \u001b[0m 1.0     \u001b[0m |\n",
            "| \u001b[0m 52      \u001b[0m | \u001b[0m 0.7313  \u001b[0m | \u001b[0m 0.2581  \u001b[0m | \u001b[0m 22.9    \u001b[0m | \u001b[0m 5.301   \u001b[0m | \u001b[0m 0.1984  \u001b[0m |\n",
            "| \u001b[0m 53      \u001b[0m | \u001b[0m 0.7276  \u001b[0m | \u001b[0m 0.1348  \u001b[0m | \u001b[0m 1.393   \u001b[0m | \u001b[0m 14.82   \u001b[0m | \u001b[0m 0.9726  \u001b[0m |\n",
            "| \u001b[0m 54      \u001b[0m | \u001b[0m 0.7239  \u001b[0m | \u001b[0m 0.1     \u001b[0m | \u001b[0m 50.0    \u001b[0m | \u001b[0m 1.0     \u001b[0m | \u001b[0m 1.0     \u001b[0m |\n",
            "| \u001b[0m 55      \u001b[0m | \u001b[0m 0.7276  \u001b[0m | \u001b[0m 0.3109  \u001b[0m | \u001b[0m 9.413   \u001b[0m | \u001b[0m 19.95   \u001b[0m | \u001b[0m 0.9516  \u001b[0m |\n",
            "| \u001b[0m 56      \u001b[0m | \u001b[0m 0.6978  \u001b[0m | \u001b[0m 0.1     \u001b[0m | \u001b[0m 38.43   \u001b[0m | \u001b[0m 3.381   \u001b[0m | \u001b[0m 1.0     \u001b[0m |\n",
            "| \u001b[0m 57      \u001b[0m | \u001b[0m 0.7052  \u001b[0m | \u001b[0m 0.9606  \u001b[0m | \u001b[0m 45.66   \u001b[0m | \u001b[0m 1.004   \u001b[0m | \u001b[0m 0.2572  \u001b[0m |\n",
            "| \u001b[0m 58      \u001b[0m | \u001b[0m 0.7052  \u001b[0m | \u001b[0m 0.9883  \u001b[0m | \u001b[0m 38.27   \u001b[0m | \u001b[0m 7.698   \u001b[0m | \u001b[0m 0.3162  \u001b[0m |\n",
            "| \u001b[0m 59      \u001b[0m | \u001b[0m 0.7313  \u001b[0m | \u001b[0m 1.0     \u001b[0m | \u001b[0m 30.96   \u001b[0m | \u001b[0m 1.0     \u001b[0m | \u001b[0m 0.1     \u001b[0m |\n",
            "| \u001b[0m 60      \u001b[0m | \u001b[0m 0.7313  \u001b[0m | \u001b[0m 0.1     \u001b[0m | \u001b[0m 35.89   \u001b[0m | \u001b[0m 17.86   \u001b[0m | \u001b[0m 1.0     \u001b[0m |\n",
            "| \u001b[0m 61      \u001b[0m | \u001b[0m 0.7276  \u001b[0m | \u001b[0m 0.1     \u001b[0m | \u001b[0m 39.97   \u001b[0m | \u001b[0m 7.366   \u001b[0m | \u001b[0m 1.0     \u001b[0m |\n",
            "| \u001b[0m 62      \u001b[0m | \u001b[0m 0.709   \u001b[0m | \u001b[0m 0.1198  \u001b[0m | \u001b[0m 11.57   \u001b[0m | \u001b[0m 9.514   \u001b[0m | \u001b[0m 0.1288  \u001b[0m |\n",
            "| \u001b[0m 63      \u001b[0m | \u001b[0m 0.7351  \u001b[0m | \u001b[0m 0.1042  \u001b[0m | \u001b[0m 19.61   \u001b[0m | \u001b[0m 7.128   \u001b[0m | \u001b[0m 0.8934  \u001b[0m |\n",
            "| \u001b[0m 64      \u001b[0m | \u001b[0m 0.7313  \u001b[0m | \u001b[0m 0.1266  \u001b[0m | \u001b[0m 18.67   \u001b[0m | \u001b[0m 15.37   \u001b[0m | \u001b[0m 0.9007  \u001b[0m |\n",
            "| \u001b[0m 65      \u001b[0m | \u001b[0m 0.7015  \u001b[0m | \u001b[0m 0.1547  \u001b[0m | \u001b[0m 24.0    \u001b[0m | \u001b[0m 3.329   \u001b[0m | \u001b[0m 0.9776  \u001b[0m |\n",
            "=========================================================================\n"
          ],
          "name": "stdout"
        }
      ]
    },
    {
      "cell_type": "code",
      "metadata": {
        "colab": {
          "base_uri": "https://localhost:8080/"
        },
        "id": "hhOIJqupAHnZ",
        "outputId": "6dd4d0f3-7f47-441f-f54c-d7ed30860c64"
      },
      "source": [
        "optimized_params = xgb_bo.max['params']\n",
        "optimized_params['max_depth'] = int(optimized_params['max_depth'])\n",
        "optimized_params"
      ],
      "execution_count": 282,
      "outputs": [
        {
          "output_type": "execute_result",
          "data": {
            "text/plain": [
              "{'colsample_bytree': 0.1812119603244762,\n",
              " 'max_depth': 14,\n",
              " 'min_child_weight': 6.224399593955088,\n",
              " 'subsample': 0.13601072701561923}"
            ]
          },
          "metadata": {
            "tags": []
          },
          "execution_count": 282
        }
      ]
    },
    {
      "cell_type": "code",
      "metadata": {
        "id": "gKpYiGxGI7J6"
      },
      "source": [
        "fixed_params = {'metric':'error',\n",
        "                'objective':'binary:logistic',\n",
        "                'n_estimators':50000,\n",
        "                'random_state':seed,\n",
        "                'booster':'gbtree',\n",
        "                'learning_rate':0.01}"
      ],
      "execution_count": 283,
      "outputs": []
    },
    {
      "cell_type": "code",
      "metadata": {
        "colab": {
          "base_uri": "https://localhost:8080/"
        },
        "id": "pq5gngI6JqSg",
        "outputId": "c0a72109-764e-49f4-dd55-4959fad46c2c"
      },
      "source": [
        "cls = xgb.XGBClassifier()\n",
        "cls.set_params(**fixed_params, **optimized_params)\n",
        "cls.fit(X_train,\n",
        "        y_train,\n",
        "        early_stopping_rounds=50,\n",
        "        eval_set=[(X_test, y_test)],\n",
        "        eval_metric='error',\n",
        "        verbose=0)"
      ],
      "execution_count": 284,
      "outputs": [
        {
          "output_type": "execute_result",
          "data": {
            "text/plain": [
              "XGBClassifier(base_score=0.5, booster='gbtree', colsample_bylevel=1,\n",
              "              colsample_bynode=1, colsample_bytree=0.1812119603244762, gamma=0,\n",
              "              learning_rate=0.01, max_delta_step=0, max_depth=14,\n",
              "              metric='error', min_child_weight=6.224399593955088, missing=None,\n",
              "              n_estimators=50000, n_jobs=1, nthread=None,\n",
              "              objective='binary:logistic', random_state=88, reg_alpha=0,\n",
              "              reg_lambda=1, scale_pos_weight=1, seed=None, silent=None,\n",
              "              subsample=0.13601072701561923, verbosity=1)"
            ]
          },
          "metadata": {
            "tags": []
          },
          "execution_count": 284
        }
      ]
    },
    {
      "cell_type": "code",
      "metadata": {
        "colab": {
          "base_uri": "https://localhost:8080/"
        },
        "id": "aKHUKoFVJTOJ",
        "outputId": "9613c6a2-003e-4a0b-d69e-aafea3a73863"
      },
      "source": [
        "pred = cls.predict(X_test)\n",
        "baseline = accuracy_score(y_test, pred)\n",
        "baseline"
      ],
      "execution_count": 285,
      "outputs": [
        {
          "output_type": "execute_result",
          "data": {
            "text/plain": [
              "0.7276119402985075"
            ]
          },
          "metadata": {
            "tags": []
          },
          "execution_count": 285
        }
      ]
    },
    {
      "cell_type": "code",
      "metadata": {
        "colab": {
          "base_uri": "https://localhost:8080/"
        },
        "id": "O8f1girNJU2q",
        "outputId": "dd95f60b-a9db-4fdc-e783-7b3665286946"
      },
      "source": [
        "%%writefile xgb_bayes.py"
      ],
      "execution_count": 286,
      "outputs": [
        {
          "output_type": "stream",
          "text": [
            "UsageError: %%writefile is a cell magic, but the cell body is empty.\n"
          ],
          "name": "stderr"
        }
      ]
    },
    {
      "cell_type": "code",
      "metadata": {
        "id": "xEX38ug2LNdV"
      },
      "source": [
        ""
      ],
      "execution_count": null,
      "outputs": []
    }
  ]
}