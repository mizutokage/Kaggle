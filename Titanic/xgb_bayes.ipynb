{
  "nbformat": 4,
  "nbformat_minor": 0,
  "metadata": {
    "colab": {
      "name": "xgb_bayes",
      "provenance": [],
      "authorship_tag": "ABX9TyOK396EeEL9dNWacEDb/zIQ",
      "include_colab_link": true
    },
    "kernelspec": {
      "name": "python3",
      "display_name": "Python 3"
    },
    "language_info": {
      "name": "python"
    }
  },
  "cells": [
    {
      "cell_type": "markdown",
      "metadata": {
        "id": "view-in-github",
        "colab_type": "text"
      },
      "source": [
        "<a href=\"https://colab.research.google.com/github/mizutokage/Kaggle/blob/main/Titanic/xgb_bayes.ipynb\" target=\"_parent\"><img src=\"https://colab.research.google.com/assets/colab-badge.svg\" alt=\"Open In Colab\"/></a>"
      ]
    },
    {
      "cell_type": "code",
      "metadata": {
        "id": "m1uFmJups7rW"
      },
      "source": [
        "import pandas as pd\n",
        "import numpy as np\n",
        "\n",
        "from sklearn.model_selection import train_test_split\n",
        "from sklearn.metrics import accuracy_score, confusion_matrix\n",
        "from sklearn.model_selection import KFold\n",
        "\n",
        "import xgboost as xgb"
      ],
      "execution_count": 142,
      "outputs": []
    },
    {
      "cell_type": "code",
      "metadata": {
        "id": "l1YuMXoe3wZF"
      },
      "source": [
        "train = pd.read_csv(\"train.csv\")\n",
        "test = pd.read_csv(\"test.csv\")\n",
        "\n",
        "train = train[['PassengerId', 'Survived', 'Pclass',\n",
        "         'Age', 'Sex', 'SibSp', \n",
        "         'Parch', 'Fare', 'Embarked']]\n",
        "\n",
        "test = test[['PassengerId', 'Pclass',\n",
        "         'Age', 'Sex', 'SibSp',\n",
        "         'Parch', 'Fare', 'Embarked']]"
      ],
      "execution_count": 143,
      "outputs": []
    },
    {
      "cell_type": "code",
      "metadata": {
        "colab": {
          "base_uri": "https://localhost:8080/"
        },
        "id": "hZJbmThz4ghi",
        "outputId": "05bb55da-a520-4932-93bb-abce441d3b9e"
      },
      "source": [
        "train = train.fillna(train['Age'].mean())\n",
        "train['Sex'][train['Sex'] == 'male'] = 0\n",
        "train['Sex'][train['Sex'] == 'female'] = 1\n",
        "train['Embarked'][train['Embarked'] == 'C'] = 0\n",
        "train['Embarked'][train['Embarked'] == 'S'] = 1\n",
        "train['Embarked'][train['Embarked'] == 'Q'] = 2\n",
        "\n",
        "test['Sex'][test['Sex'] == 'male'] = 0\n",
        "test['Sex'][test['Sex'] == 'female'] = 1\n",
        "test['Embarked'][test['Embarked'] == 'C'] = 0\n",
        "test['Embarked'][test['Embarked'] == 'S'] = 1\n",
        "test['Embarked'][test['Embarked'] == 'Q'] = 2"
      ],
      "execution_count": 144,
      "outputs": [
        {
          "output_type": "stream",
          "text": [
            "/usr/local/lib/python3.7/dist-packages/ipykernel_launcher.py:2: SettingWithCopyWarning: \n",
            "A value is trying to be set on a copy of a slice from a DataFrame\n",
            "\n",
            "See the caveats in the documentation: https://pandas.pydata.org/pandas-docs/stable/user_guide/indexing.html#returning-a-view-versus-a-copy\n",
            "  \n",
            "/usr/local/lib/python3.7/dist-packages/ipykernel_launcher.py:3: SettingWithCopyWarning: \n",
            "A value is trying to be set on a copy of a slice from a DataFrame\n",
            "\n",
            "See the caveats in the documentation: https://pandas.pydata.org/pandas-docs/stable/user_guide/indexing.html#returning-a-view-versus-a-copy\n",
            "  This is separate from the ipykernel package so we can avoid doing imports until\n",
            "/usr/local/lib/python3.7/dist-packages/ipykernel_launcher.py:4: SettingWithCopyWarning: \n",
            "A value is trying to be set on a copy of a slice from a DataFrame\n",
            "\n",
            "See the caveats in the documentation: https://pandas.pydata.org/pandas-docs/stable/user_guide/indexing.html#returning-a-view-versus-a-copy\n",
            "  after removing the cwd from sys.path.\n",
            "/usr/local/lib/python3.7/dist-packages/ipykernel_launcher.py:5: SettingWithCopyWarning: \n",
            "A value is trying to be set on a copy of a slice from a DataFrame\n",
            "\n",
            "See the caveats in the documentation: https://pandas.pydata.org/pandas-docs/stable/user_guide/indexing.html#returning-a-view-versus-a-copy\n",
            "  \"\"\"\n",
            "/usr/local/lib/python3.7/dist-packages/ipykernel_launcher.py:6: SettingWithCopyWarning: \n",
            "A value is trying to be set on a copy of a slice from a DataFrame\n",
            "\n",
            "See the caveats in the documentation: https://pandas.pydata.org/pandas-docs/stable/user_guide/indexing.html#returning-a-view-versus-a-copy\n",
            "  \n",
            "/usr/local/lib/python3.7/dist-packages/ipykernel_launcher.py:9: SettingWithCopyWarning: \n",
            "A value is trying to be set on a copy of a slice from a DataFrame\n",
            "\n",
            "See the caveats in the documentation: https://pandas.pydata.org/pandas-docs/stable/user_guide/indexing.html#returning-a-view-versus-a-copy\n",
            "  if __name__ == '__main__':\n",
            "/usr/local/lib/python3.7/dist-packages/ipykernel_launcher.py:11: SettingWithCopyWarning: \n",
            "A value is trying to be set on a copy of a slice from a DataFrame\n",
            "\n",
            "See the caveats in the documentation: https://pandas.pydata.org/pandas-docs/stable/user_guide/indexing.html#returning-a-view-versus-a-copy\n",
            "  # This is added back by InteractiveShellApp.init_path()\n",
            "/usr/local/lib/python3.7/dist-packages/ipykernel_launcher.py:12: SettingWithCopyWarning: \n",
            "A value is trying to be set on a copy of a slice from a DataFrame\n",
            "\n",
            "See the caveats in the documentation: https://pandas.pydata.org/pandas-docs/stable/user_guide/indexing.html#returning-a-view-versus-a-copy\n",
            "  if sys.path[0] == '':\n"
          ],
          "name": "stderr"
        }
      ]
    },
    {
      "cell_type": "code",
      "metadata": {
        "colab": {
          "base_uri": "https://localhost:8080/",
          "height": 206
        },
        "id": "SVbK8ZvZB_aW",
        "outputId": "62020d60-c087-4dda-cc36-320da1c64874"
      },
      "source": [
        "train.head()"
      ],
      "execution_count": 145,
      "outputs": [
        {
          "output_type": "execute_result",
          "data": {
            "text/html": [
              "<div>\n",
              "<style scoped>\n",
              "    .dataframe tbody tr th:only-of-type {\n",
              "        vertical-align: middle;\n",
              "    }\n",
              "\n",
              "    .dataframe tbody tr th {\n",
              "        vertical-align: top;\n",
              "    }\n",
              "\n",
              "    .dataframe thead th {\n",
              "        text-align: right;\n",
              "    }\n",
              "</style>\n",
              "<table border=\"1\" class=\"dataframe\">\n",
              "  <thead>\n",
              "    <tr style=\"text-align: right;\">\n",
              "      <th></th>\n",
              "      <th>PassengerId</th>\n",
              "      <th>Survived</th>\n",
              "      <th>Pclass</th>\n",
              "      <th>Age</th>\n",
              "      <th>Sex</th>\n",
              "      <th>SibSp</th>\n",
              "      <th>Parch</th>\n",
              "      <th>Fare</th>\n",
              "      <th>Embarked</th>\n",
              "    </tr>\n",
              "  </thead>\n",
              "  <tbody>\n",
              "    <tr>\n",
              "      <th>0</th>\n",
              "      <td>1</td>\n",
              "      <td>0</td>\n",
              "      <td>3</td>\n",
              "      <td>22.0</td>\n",
              "      <td>0</td>\n",
              "      <td>1</td>\n",
              "      <td>0</td>\n",
              "      <td>7.2500</td>\n",
              "      <td>1</td>\n",
              "    </tr>\n",
              "    <tr>\n",
              "      <th>1</th>\n",
              "      <td>2</td>\n",
              "      <td>1</td>\n",
              "      <td>1</td>\n",
              "      <td>38.0</td>\n",
              "      <td>1</td>\n",
              "      <td>1</td>\n",
              "      <td>0</td>\n",
              "      <td>71.2833</td>\n",
              "      <td>0</td>\n",
              "    </tr>\n",
              "    <tr>\n",
              "      <th>2</th>\n",
              "      <td>3</td>\n",
              "      <td>1</td>\n",
              "      <td>3</td>\n",
              "      <td>26.0</td>\n",
              "      <td>1</td>\n",
              "      <td>0</td>\n",
              "      <td>0</td>\n",
              "      <td>7.9250</td>\n",
              "      <td>1</td>\n",
              "    </tr>\n",
              "    <tr>\n",
              "      <th>3</th>\n",
              "      <td>4</td>\n",
              "      <td>1</td>\n",
              "      <td>1</td>\n",
              "      <td>35.0</td>\n",
              "      <td>1</td>\n",
              "      <td>1</td>\n",
              "      <td>0</td>\n",
              "      <td>53.1000</td>\n",
              "      <td>1</td>\n",
              "    </tr>\n",
              "    <tr>\n",
              "      <th>4</th>\n",
              "      <td>5</td>\n",
              "      <td>0</td>\n",
              "      <td>3</td>\n",
              "      <td>35.0</td>\n",
              "      <td>0</td>\n",
              "      <td>0</td>\n",
              "      <td>0</td>\n",
              "      <td>8.0500</td>\n",
              "      <td>1</td>\n",
              "    </tr>\n",
              "  </tbody>\n",
              "</table>\n",
              "</div>"
            ],
            "text/plain": [
              "   PassengerId  Survived  Pclass   Age Sex  SibSp  Parch     Fare Embarked\n",
              "0            1         0       3  22.0   0      1      0   7.2500        1\n",
              "1            2         1       1  38.0   1      1      0  71.2833        0\n",
              "2            3         1       3  26.0   1      0      0   7.9250        1\n",
              "3            4         1       1  35.0   1      1      0  53.1000        1\n",
              "4            5         0       3  35.0   0      0      0   8.0500        1"
            ]
          },
          "metadata": {
            "tags": []
          },
          "execution_count": 145
        }
      ]
    },
    {
      "cell_type": "code",
      "metadata": {
        "colab": {
          "base_uri": "https://localhost:8080/",
          "height": 206
        },
        "id": "mRrdkshXB_da",
        "outputId": "c78d4818-f6f3-432e-c30e-d841531498f8"
      },
      "source": [
        "test.head()"
      ],
      "execution_count": 146,
      "outputs": [
        {
          "output_type": "execute_result",
          "data": {
            "text/html": [
              "<div>\n",
              "<style scoped>\n",
              "    .dataframe tbody tr th:only-of-type {\n",
              "        vertical-align: middle;\n",
              "    }\n",
              "\n",
              "    .dataframe tbody tr th {\n",
              "        vertical-align: top;\n",
              "    }\n",
              "\n",
              "    .dataframe thead th {\n",
              "        text-align: right;\n",
              "    }\n",
              "</style>\n",
              "<table border=\"1\" class=\"dataframe\">\n",
              "  <thead>\n",
              "    <tr style=\"text-align: right;\">\n",
              "      <th></th>\n",
              "      <th>PassengerId</th>\n",
              "      <th>Pclass</th>\n",
              "      <th>Age</th>\n",
              "      <th>Sex</th>\n",
              "      <th>SibSp</th>\n",
              "      <th>Parch</th>\n",
              "      <th>Fare</th>\n",
              "      <th>Embarked</th>\n",
              "    </tr>\n",
              "  </thead>\n",
              "  <tbody>\n",
              "    <tr>\n",
              "      <th>0</th>\n",
              "      <td>892</td>\n",
              "      <td>3</td>\n",
              "      <td>34.5</td>\n",
              "      <td>0</td>\n",
              "      <td>0</td>\n",
              "      <td>0</td>\n",
              "      <td>7.8292</td>\n",
              "      <td>2</td>\n",
              "    </tr>\n",
              "    <tr>\n",
              "      <th>1</th>\n",
              "      <td>893</td>\n",
              "      <td>3</td>\n",
              "      <td>47.0</td>\n",
              "      <td>1</td>\n",
              "      <td>1</td>\n",
              "      <td>0</td>\n",
              "      <td>7.0000</td>\n",
              "      <td>1</td>\n",
              "    </tr>\n",
              "    <tr>\n",
              "      <th>2</th>\n",
              "      <td>894</td>\n",
              "      <td>2</td>\n",
              "      <td>62.0</td>\n",
              "      <td>0</td>\n",
              "      <td>0</td>\n",
              "      <td>0</td>\n",
              "      <td>9.6875</td>\n",
              "      <td>2</td>\n",
              "    </tr>\n",
              "    <tr>\n",
              "      <th>3</th>\n",
              "      <td>895</td>\n",
              "      <td>3</td>\n",
              "      <td>27.0</td>\n",
              "      <td>0</td>\n",
              "      <td>0</td>\n",
              "      <td>0</td>\n",
              "      <td>8.6625</td>\n",
              "      <td>1</td>\n",
              "    </tr>\n",
              "    <tr>\n",
              "      <th>4</th>\n",
              "      <td>896</td>\n",
              "      <td>3</td>\n",
              "      <td>22.0</td>\n",
              "      <td>1</td>\n",
              "      <td>1</td>\n",
              "      <td>1</td>\n",
              "      <td>12.2875</td>\n",
              "      <td>1</td>\n",
              "    </tr>\n",
              "  </tbody>\n",
              "</table>\n",
              "</div>"
            ],
            "text/plain": [
              "   PassengerId  Pclass   Age Sex  SibSp  Parch     Fare Embarked\n",
              "0          892       3  34.5   0      0      0   7.8292        2\n",
              "1          893       3  47.0   1      1      0   7.0000        1\n",
              "2          894       2  62.0   0      0      0   9.6875        2\n",
              "3          895       3  27.0   0      0      0   8.6625        1\n",
              "4          896       3  22.0   1      1      1  12.2875        1"
            ]
          },
          "metadata": {
            "tags": []
          },
          "execution_count": 146
        }
      ]
    },
    {
      "cell_type": "code",
      "metadata": {
        "id": "bUtr91sT90Hv"
      },
      "source": [
        "from sklearn import preprocessing\n",
        "lbl = preprocessing.LabelEncoder()\n",
        "train['Sex'] = lbl.fit_transform(train['Sex'].astype(int))\n",
        "train['Embarked'] = lbl.fit_transform(train['Embarked'].astype(int))\n",
        "test['Sex'] = lbl.fit_transform(test['Sex'].astype(int))\n",
        "test['Embarked'] = lbl.fit_transform(test['Embarked'].astype(int))"
      ],
      "execution_count": 147,
      "outputs": []
    },
    {
      "cell_type": "code",
      "metadata": {
        "colab": {
          "base_uri": "https://localhost:8080/",
          "height": 206
        },
        "id": "OFuyi8ZeB6yw",
        "outputId": "7268aea3-efc6-4394-b7da-0f56b5c430e7"
      },
      "source": [
        "train.head()"
      ],
      "execution_count": 148,
      "outputs": [
        {
          "output_type": "execute_result",
          "data": {
            "text/html": [
              "<div>\n",
              "<style scoped>\n",
              "    .dataframe tbody tr th:only-of-type {\n",
              "        vertical-align: middle;\n",
              "    }\n",
              "\n",
              "    .dataframe tbody tr th {\n",
              "        vertical-align: top;\n",
              "    }\n",
              "\n",
              "    .dataframe thead th {\n",
              "        text-align: right;\n",
              "    }\n",
              "</style>\n",
              "<table border=\"1\" class=\"dataframe\">\n",
              "  <thead>\n",
              "    <tr style=\"text-align: right;\">\n",
              "      <th></th>\n",
              "      <th>PassengerId</th>\n",
              "      <th>Survived</th>\n",
              "      <th>Pclass</th>\n",
              "      <th>Age</th>\n",
              "      <th>Sex</th>\n",
              "      <th>SibSp</th>\n",
              "      <th>Parch</th>\n",
              "      <th>Fare</th>\n",
              "      <th>Embarked</th>\n",
              "    </tr>\n",
              "  </thead>\n",
              "  <tbody>\n",
              "    <tr>\n",
              "      <th>0</th>\n",
              "      <td>1</td>\n",
              "      <td>0</td>\n",
              "      <td>3</td>\n",
              "      <td>22.0</td>\n",
              "      <td>0</td>\n",
              "      <td>1</td>\n",
              "      <td>0</td>\n",
              "      <td>7.2500</td>\n",
              "      <td>1</td>\n",
              "    </tr>\n",
              "    <tr>\n",
              "      <th>1</th>\n",
              "      <td>2</td>\n",
              "      <td>1</td>\n",
              "      <td>1</td>\n",
              "      <td>38.0</td>\n",
              "      <td>1</td>\n",
              "      <td>1</td>\n",
              "      <td>0</td>\n",
              "      <td>71.2833</td>\n",
              "      <td>0</td>\n",
              "    </tr>\n",
              "    <tr>\n",
              "      <th>2</th>\n",
              "      <td>3</td>\n",
              "      <td>1</td>\n",
              "      <td>3</td>\n",
              "      <td>26.0</td>\n",
              "      <td>1</td>\n",
              "      <td>0</td>\n",
              "      <td>0</td>\n",
              "      <td>7.9250</td>\n",
              "      <td>1</td>\n",
              "    </tr>\n",
              "    <tr>\n",
              "      <th>3</th>\n",
              "      <td>4</td>\n",
              "      <td>1</td>\n",
              "      <td>1</td>\n",
              "      <td>35.0</td>\n",
              "      <td>1</td>\n",
              "      <td>1</td>\n",
              "      <td>0</td>\n",
              "      <td>53.1000</td>\n",
              "      <td>1</td>\n",
              "    </tr>\n",
              "    <tr>\n",
              "      <th>4</th>\n",
              "      <td>5</td>\n",
              "      <td>0</td>\n",
              "      <td>3</td>\n",
              "      <td>35.0</td>\n",
              "      <td>0</td>\n",
              "      <td>0</td>\n",
              "      <td>0</td>\n",
              "      <td>8.0500</td>\n",
              "      <td>1</td>\n",
              "    </tr>\n",
              "  </tbody>\n",
              "</table>\n",
              "</div>"
            ],
            "text/plain": [
              "   PassengerId  Survived  Pclass   Age  Sex  SibSp  Parch     Fare  Embarked\n",
              "0            1         0       3  22.0    0      1      0   7.2500         1\n",
              "1            2         1       1  38.0    1      1      0  71.2833         0\n",
              "2            3         1       3  26.0    1      0      0   7.9250         1\n",
              "3            4         1       1  35.0    1      1      0  53.1000         1\n",
              "4            5         0       3  35.0    0      0      0   8.0500         1"
            ]
          },
          "metadata": {
            "tags": []
          },
          "execution_count": 148
        }
      ]
    },
    {
      "cell_type": "code",
      "metadata": {
        "colab": {
          "base_uri": "https://localhost:8080/",
          "height": 206
        },
        "id": "Wqvwf722B65-",
        "outputId": "bb0eb4f6-1f0b-4524-8271-277a39ed2be1"
      },
      "source": [
        "test.head()"
      ],
      "execution_count": 149,
      "outputs": [
        {
          "output_type": "execute_result",
          "data": {
            "text/html": [
              "<div>\n",
              "<style scoped>\n",
              "    .dataframe tbody tr th:only-of-type {\n",
              "        vertical-align: middle;\n",
              "    }\n",
              "\n",
              "    .dataframe tbody tr th {\n",
              "        vertical-align: top;\n",
              "    }\n",
              "\n",
              "    .dataframe thead th {\n",
              "        text-align: right;\n",
              "    }\n",
              "</style>\n",
              "<table border=\"1\" class=\"dataframe\">\n",
              "  <thead>\n",
              "    <tr style=\"text-align: right;\">\n",
              "      <th></th>\n",
              "      <th>PassengerId</th>\n",
              "      <th>Pclass</th>\n",
              "      <th>Age</th>\n",
              "      <th>Sex</th>\n",
              "      <th>SibSp</th>\n",
              "      <th>Parch</th>\n",
              "      <th>Fare</th>\n",
              "      <th>Embarked</th>\n",
              "    </tr>\n",
              "  </thead>\n",
              "  <tbody>\n",
              "    <tr>\n",
              "      <th>0</th>\n",
              "      <td>892</td>\n",
              "      <td>3</td>\n",
              "      <td>34.5</td>\n",
              "      <td>0</td>\n",
              "      <td>0</td>\n",
              "      <td>0</td>\n",
              "      <td>7.8292</td>\n",
              "      <td>2</td>\n",
              "    </tr>\n",
              "    <tr>\n",
              "      <th>1</th>\n",
              "      <td>893</td>\n",
              "      <td>3</td>\n",
              "      <td>47.0</td>\n",
              "      <td>1</td>\n",
              "      <td>1</td>\n",
              "      <td>0</td>\n",
              "      <td>7.0000</td>\n",
              "      <td>1</td>\n",
              "    </tr>\n",
              "    <tr>\n",
              "      <th>2</th>\n",
              "      <td>894</td>\n",
              "      <td>2</td>\n",
              "      <td>62.0</td>\n",
              "      <td>0</td>\n",
              "      <td>0</td>\n",
              "      <td>0</td>\n",
              "      <td>9.6875</td>\n",
              "      <td>2</td>\n",
              "    </tr>\n",
              "    <tr>\n",
              "      <th>3</th>\n",
              "      <td>895</td>\n",
              "      <td>3</td>\n",
              "      <td>27.0</td>\n",
              "      <td>0</td>\n",
              "      <td>0</td>\n",
              "      <td>0</td>\n",
              "      <td>8.6625</td>\n",
              "      <td>1</td>\n",
              "    </tr>\n",
              "    <tr>\n",
              "      <th>4</th>\n",
              "      <td>896</td>\n",
              "      <td>3</td>\n",
              "      <td>22.0</td>\n",
              "      <td>1</td>\n",
              "      <td>1</td>\n",
              "      <td>1</td>\n",
              "      <td>12.2875</td>\n",
              "      <td>1</td>\n",
              "    </tr>\n",
              "  </tbody>\n",
              "</table>\n",
              "</div>"
            ],
            "text/plain": [
              "   PassengerId  Pclass   Age  Sex  SibSp  Parch     Fare  Embarked\n",
              "0          892       3  34.5    0      0      0   7.8292         2\n",
              "1          893       3  47.0    1      1      0   7.0000         1\n",
              "2          894       2  62.0    0      0      0   9.6875         2\n",
              "3          895       3  27.0    0      0      0   8.6625         1\n",
              "4          896       3  22.0    1      1      1  12.2875         1"
            ]
          },
          "metadata": {
            "tags": []
          },
          "execution_count": 149
        }
      ]
    },
    {
      "cell_type": "code",
      "metadata": {
        "id": "3f2ZrN3I6gJU",
        "colab": {
          "base_uri": "https://localhost:8080/",
          "height": 423
        },
        "outputId": "6655359a-d82b-4540-fc30-df47a0600145"
      },
      "source": [
        "seed = 88\n",
        "X = train.drop(['Survived'], axis=1)\n",
        "y = train['Survived']\n",
        "X_train, X_test, y_train, y_test = train_test_split(X, y, test_size=.3, random_state=seed)\n",
        "X"
      ],
      "execution_count": 150,
      "outputs": [
        {
          "output_type": "execute_result",
          "data": {
            "text/html": [
              "<div>\n",
              "<style scoped>\n",
              "    .dataframe tbody tr th:only-of-type {\n",
              "        vertical-align: middle;\n",
              "    }\n",
              "\n",
              "    .dataframe tbody tr th {\n",
              "        vertical-align: top;\n",
              "    }\n",
              "\n",
              "    .dataframe thead th {\n",
              "        text-align: right;\n",
              "    }\n",
              "</style>\n",
              "<table border=\"1\" class=\"dataframe\">\n",
              "  <thead>\n",
              "    <tr style=\"text-align: right;\">\n",
              "      <th></th>\n",
              "      <th>PassengerId</th>\n",
              "      <th>Pclass</th>\n",
              "      <th>Age</th>\n",
              "      <th>Sex</th>\n",
              "      <th>SibSp</th>\n",
              "      <th>Parch</th>\n",
              "      <th>Fare</th>\n",
              "      <th>Embarked</th>\n",
              "    </tr>\n",
              "  </thead>\n",
              "  <tbody>\n",
              "    <tr>\n",
              "      <th>0</th>\n",
              "      <td>1</td>\n",
              "      <td>3</td>\n",
              "      <td>22.000000</td>\n",
              "      <td>0</td>\n",
              "      <td>1</td>\n",
              "      <td>0</td>\n",
              "      <td>7.2500</td>\n",
              "      <td>1</td>\n",
              "    </tr>\n",
              "    <tr>\n",
              "      <th>1</th>\n",
              "      <td>2</td>\n",
              "      <td>1</td>\n",
              "      <td>38.000000</td>\n",
              "      <td>1</td>\n",
              "      <td>1</td>\n",
              "      <td>0</td>\n",
              "      <td>71.2833</td>\n",
              "      <td>0</td>\n",
              "    </tr>\n",
              "    <tr>\n",
              "      <th>2</th>\n",
              "      <td>3</td>\n",
              "      <td>3</td>\n",
              "      <td>26.000000</td>\n",
              "      <td>1</td>\n",
              "      <td>0</td>\n",
              "      <td>0</td>\n",
              "      <td>7.9250</td>\n",
              "      <td>1</td>\n",
              "    </tr>\n",
              "    <tr>\n",
              "      <th>3</th>\n",
              "      <td>4</td>\n",
              "      <td>1</td>\n",
              "      <td>35.000000</td>\n",
              "      <td>1</td>\n",
              "      <td>1</td>\n",
              "      <td>0</td>\n",
              "      <td>53.1000</td>\n",
              "      <td>1</td>\n",
              "    </tr>\n",
              "    <tr>\n",
              "      <th>4</th>\n",
              "      <td>5</td>\n",
              "      <td>3</td>\n",
              "      <td>35.000000</td>\n",
              "      <td>0</td>\n",
              "      <td>0</td>\n",
              "      <td>0</td>\n",
              "      <td>8.0500</td>\n",
              "      <td>1</td>\n",
              "    </tr>\n",
              "    <tr>\n",
              "      <th>...</th>\n",
              "      <td>...</td>\n",
              "      <td>...</td>\n",
              "      <td>...</td>\n",
              "      <td>...</td>\n",
              "      <td>...</td>\n",
              "      <td>...</td>\n",
              "      <td>...</td>\n",
              "      <td>...</td>\n",
              "    </tr>\n",
              "    <tr>\n",
              "      <th>886</th>\n",
              "      <td>887</td>\n",
              "      <td>2</td>\n",
              "      <td>27.000000</td>\n",
              "      <td>0</td>\n",
              "      <td>0</td>\n",
              "      <td>0</td>\n",
              "      <td>13.0000</td>\n",
              "      <td>1</td>\n",
              "    </tr>\n",
              "    <tr>\n",
              "      <th>887</th>\n",
              "      <td>888</td>\n",
              "      <td>1</td>\n",
              "      <td>19.000000</td>\n",
              "      <td>1</td>\n",
              "      <td>0</td>\n",
              "      <td>0</td>\n",
              "      <td>30.0000</td>\n",
              "      <td>1</td>\n",
              "    </tr>\n",
              "    <tr>\n",
              "      <th>888</th>\n",
              "      <td>889</td>\n",
              "      <td>3</td>\n",
              "      <td>29.699118</td>\n",
              "      <td>1</td>\n",
              "      <td>1</td>\n",
              "      <td>2</td>\n",
              "      <td>23.4500</td>\n",
              "      <td>1</td>\n",
              "    </tr>\n",
              "    <tr>\n",
              "      <th>889</th>\n",
              "      <td>890</td>\n",
              "      <td>1</td>\n",
              "      <td>26.000000</td>\n",
              "      <td>0</td>\n",
              "      <td>0</td>\n",
              "      <td>0</td>\n",
              "      <td>30.0000</td>\n",
              "      <td>0</td>\n",
              "    </tr>\n",
              "    <tr>\n",
              "      <th>890</th>\n",
              "      <td>891</td>\n",
              "      <td>3</td>\n",
              "      <td>32.000000</td>\n",
              "      <td>0</td>\n",
              "      <td>0</td>\n",
              "      <td>0</td>\n",
              "      <td>7.7500</td>\n",
              "      <td>2</td>\n",
              "    </tr>\n",
              "  </tbody>\n",
              "</table>\n",
              "<p>891 rows × 8 columns</p>\n",
              "</div>"
            ],
            "text/plain": [
              "     PassengerId  Pclass        Age  Sex  SibSp  Parch     Fare  Embarked\n",
              "0              1       3  22.000000    0      1      0   7.2500         1\n",
              "1              2       1  38.000000    1      1      0  71.2833         0\n",
              "2              3       3  26.000000    1      0      0   7.9250         1\n",
              "3              4       1  35.000000    1      1      0  53.1000         1\n",
              "4              5       3  35.000000    0      0      0   8.0500         1\n",
              "..           ...     ...        ...  ...    ...    ...      ...       ...\n",
              "886          887       2  27.000000    0      0      0  13.0000         1\n",
              "887          888       1  19.000000    1      0      0  30.0000         1\n",
              "888          889       3  29.699118    1      1      2  23.4500         1\n",
              "889          890       1  26.000000    0      0      0  30.0000         0\n",
              "890          891       3  32.000000    0      0      0   7.7500         2\n",
              "\n",
              "[891 rows x 8 columns]"
            ]
          },
          "metadata": {
            "tags": []
          },
          "execution_count": 150
        }
      ]
    },
    {
      "cell_type": "code",
      "metadata": {
        "id": "_t5EjP0e5FdE"
      },
      "source": [
        "from bayes_opt import BayesianOptimization"
      ],
      "execution_count": 151,
      "outputs": []
    },
    {
      "cell_type": "code",
      "metadata": {
        "id": "xl5P_-MF5JhU"
      },
      "source": [
        "def xgb_evaluate(min_child_weight, subsample, colsample_bytree, max_depth):\n",
        "      params = {'metric': 'error',\n",
        "              'objective':'binary:logistic',\n",
        "              'n_estimators':50000,\n",
        "              'random_state':42,\n",
        "              'boosting_type':'gbdt',\n",
        "              'learning_rate':0.01,              \n",
        "              'min_child_weight': int(min_child_weight),\n",
        "              'max_depth': int(max_depth),\n",
        "              'colsample_bytree': colsample_bytree,\n",
        "              'subsample': subsample,\n",
        "             }\n",
        "\n",
        "      cls = xgb.XGBClassifier()\n",
        "      cls.set_params(**params)\n",
        "      cls.fit(X_train,\n",
        "              y_train,\n",
        "              early_stopping_rounds=50,\n",
        "              eval_set=[(X_test, y_test)],\n",
        "              eval_metric='error',\n",
        "              verbose=0)\n",
        "      \n",
        "      pred = cls.predict(X_test)\n",
        "      score = accuracy_score(y_test, pred)\n",
        "      return score"
      ],
      "execution_count": 152,
      "outputs": []
    },
    {
      "cell_type": "code",
      "metadata": {
        "id": "ZJpCZ3KP57BE"
      },
      "source": [
        "xgb_bo = BayesianOptimization(xgb_evaluate,\n",
        "                              {'min_child_weight': (1, 20),\n",
        "                               'subsample': (.1, 1),\n",
        "                               'colsample_bytree': (.1, 1),\n",
        "                               'max_depth': (1, 50)},\n",
        "                               random_state=10)"
      ],
      "execution_count": 153,
      "outputs": []
    },
    {
      "cell_type": "code",
      "metadata": {
        "colab": {
          "base_uri": "https://localhost:8080/"
        },
        "id": "a5km6AxT7STF",
        "outputId": "587f50c4-9d08-4e5f-80b8-c01c3b6619b1"
      },
      "source": [
        "xgb_bo.maximize(init_points=15, n_iter=50, acq='ei')"
      ],
      "execution_count": 154,
      "outputs": [
        {
          "output_type": "stream",
          "text": [
            "|   iter    |  target   | colsam... | max_depth | min_ch... | subsample |\n",
            "-------------------------------------------------------------------------\n",
            "| \u001b[0m 1       \u001b[0m | \u001b[0m 0.7724  \u001b[0m | \u001b[0m 0.7942  \u001b[0m | \u001b[0m 2.017   \u001b[0m | \u001b[0m 13.04   \u001b[0m | \u001b[0m 0.7739  \u001b[0m |\n",
            "| \u001b[95m 2       \u001b[0m | \u001b[95m 0.7985  \u001b[0m | \u001b[95m 0.5487  \u001b[0m | \u001b[95m 12.02   \u001b[0m | \u001b[95m 4.763   \u001b[0m | \u001b[95m 0.7845  \u001b[0m |\n",
            "| \u001b[0m 3       \u001b[0m | \u001b[0m 0.7873  \u001b[0m | \u001b[0m 0.2522  \u001b[0m | \u001b[0m 5.329   \u001b[0m | \u001b[0m 14.02   \u001b[0m | \u001b[0m 0.9581  \u001b[0m |\n",
            "| \u001b[0m 4       \u001b[0m | \u001b[0m 0.7687  \u001b[0m | \u001b[0m 0.1036  \u001b[0m | \u001b[0m 26.1    \u001b[0m | \u001b[0m 16.44   \u001b[0m | \u001b[0m 0.6513  \u001b[0m |\n",
            "| \u001b[0m 5       \u001b[0m | \u001b[0m 0.7724  \u001b[0m | \u001b[0m 0.7496  \u001b[0m | \u001b[0m 15.3    \u001b[0m | \u001b[0m 18.44   \u001b[0m | \u001b[0m 0.7431  \u001b[0m |\n",
            "| \u001b[0m 6       \u001b[0m | \u001b[0m 0.7836  \u001b[0m | \u001b[0m 0.5883  \u001b[0m | \u001b[0m 7.966   \u001b[0m | \u001b[0m 8.093   \u001b[0m | \u001b[0m 0.7067  \u001b[0m |\n",
            "| \u001b[0m 7       \u001b[0m | \u001b[0m 0.7761  \u001b[0m | \u001b[0m 0.4976  \u001b[0m | \u001b[0m 22.27   \u001b[0m | \u001b[0m 12.74   \u001b[0m | \u001b[0m 0.5618  \u001b[0m |\n",
            "| \u001b[0m 8       \u001b[0m | \u001b[0m 0.7724  \u001b[0m | \u001b[0m 0.6854  \u001b[0m | \u001b[0m 30.45   \u001b[0m | \u001b[0m 16.3    \u001b[0m | \u001b[0m 0.5695  \u001b[0m |\n",
            "| \u001b[0m 9       \u001b[0m | \u001b[0m 0.7985  \u001b[0m | \u001b[0m 0.9178  \u001b[0m | \u001b[0m 16.64   \u001b[0m | \u001b[0m 2.719   \u001b[0m | \u001b[0m 0.3706  \u001b[0m |\n",
            "| \u001b[0m 10      \u001b[0m | \u001b[0m 0.7575  \u001b[0m | \u001b[0m 0.2026  \u001b[0m | \u001b[0m 41.61   \u001b[0m | \u001b[0m 1.891   \u001b[0m | \u001b[0m 0.6637  \u001b[0m |\n",
            "| \u001b[0m 11      \u001b[0m | \u001b[0m 0.7985  \u001b[0m | \u001b[0m 0.5928  \u001b[0m | \u001b[0m 41.15   \u001b[0m | \u001b[0m 4.78    \u001b[0m | \u001b[0m 0.8712  \u001b[0m |\n",
            "| \u001b[95m 12      \u001b[0m | \u001b[95m 0.8097  \u001b[0m | \u001b[95m 0.4165  \u001b[0m | \u001b[95m 37.98   \u001b[0m | \u001b[95m 6.623   \u001b[0m | \u001b[95m 0.8955  \u001b[0m |\n",
            "| \u001b[0m 13      \u001b[0m | \u001b[0m 0.7761  \u001b[0m | \u001b[0m 0.393   \u001b[0m | \u001b[0m 9.086   \u001b[0m | \u001b[0m 8.458   \u001b[0m | \u001b[0m 0.1841  \u001b[0m |\n",
            "| \u001b[0m 14      \u001b[0m | \u001b[0m 0.7836  \u001b[0m | \u001b[0m 0.839   \u001b[0m | \u001b[0m 8.406   \u001b[0m | \u001b[0m 8.298   \u001b[0m | \u001b[0m 0.9498  \u001b[0m |\n",
            "| \u001b[0m 15      \u001b[0m | \u001b[0m 0.7724  \u001b[0m | \u001b[0m 0.9889  \u001b[0m | \u001b[0m 23.36   \u001b[0m | \u001b[0m 16.7    \u001b[0m | \u001b[0m 0.3262  \u001b[0m |\n",
            "| \u001b[0m 16      \u001b[0m | \u001b[0m 0.7724  \u001b[0m | \u001b[0m 0.8334  \u001b[0m | \u001b[0m 49.79   \u001b[0m | \u001b[0m 19.01   \u001b[0m | \u001b[0m 0.8347  \u001b[0m |\n",
            "| \u001b[0m 17      \u001b[0m | \u001b[0m 0.791   \u001b[0m | \u001b[0m 0.9712  \u001b[0m | \u001b[0m 42.52   \u001b[0m | \u001b[0m 11.44   \u001b[0m | \u001b[0m 0.9773  \u001b[0m |\n",
            "| \u001b[0m 18      \u001b[0m | \u001b[0m 0.791   \u001b[0m | \u001b[0m 0.4808  \u001b[0m | \u001b[0m 2.337   \u001b[0m | \u001b[0m 1.061   \u001b[0m | \u001b[0m 0.9172  \u001b[0m |\n",
            "| \u001b[0m 19      \u001b[0m | \u001b[0m 0.7799  \u001b[0m | \u001b[0m 0.862   \u001b[0m | \u001b[0m 35.52   \u001b[0m | \u001b[0m 6.211   \u001b[0m | \u001b[0m 0.9807  \u001b[0m |\n",
            "| \u001b[0m 20      \u001b[0m | \u001b[0m 0.791   \u001b[0m | \u001b[0m 0.1285  \u001b[0m | \u001b[0m 40.26   \u001b[0m | \u001b[0m 7.248   \u001b[0m | \u001b[0m 0.1997  \u001b[0m |\n",
            "| \u001b[0m 21      \u001b[0m | \u001b[0m 0.7463  \u001b[0m | \u001b[0m 0.1525  \u001b[0m | \u001b[0m 10.75   \u001b[0m | \u001b[0m 1.128   \u001b[0m | \u001b[0m 0.9842  \u001b[0m |\n",
            "| \u001b[0m 22      \u001b[0m | \u001b[0m 0.7761  \u001b[0m | \u001b[0m 0.1     \u001b[0m | \u001b[0m 39.34   \u001b[0m | \u001b[0m 20.0    \u001b[0m | \u001b[0m 1.0     \u001b[0m |\n",
            "| \u001b[0m 23      \u001b[0m | \u001b[0m 0.8022  \u001b[0m | \u001b[0m 0.3118  \u001b[0m | \u001b[0m 16.58   \u001b[0m | \u001b[0m 5.611   \u001b[0m | \u001b[0m 0.9632  \u001b[0m |\n",
            "| \u001b[0m 24      \u001b[0m | \u001b[0m 0.7799  \u001b[0m | \u001b[0m 0.2884  \u001b[0m | \u001b[0m 2.525   \u001b[0m | \u001b[0m 19.84   \u001b[0m | \u001b[0m 0.7993  \u001b[0m |\n",
            "| \u001b[0m 25      \u001b[0m | \u001b[0m 0.7724  \u001b[0m | \u001b[0m 0.9587  \u001b[0m | \u001b[0m 1.015   \u001b[0m | \u001b[0m 4.845   \u001b[0m | \u001b[0m 0.9015  \u001b[0m |\n",
            "| \u001b[0m 26      \u001b[0m | \u001b[0m 0.8022  \u001b[0m | \u001b[0m 0.3635  \u001b[0m | \u001b[0m 49.94   \u001b[0m | \u001b[0m 2.843   \u001b[0m | \u001b[0m 0.9372  \u001b[0m |\n",
            "| \u001b[0m 27      \u001b[0m | \u001b[0m 0.7799  \u001b[0m | \u001b[0m 0.1484  \u001b[0m | \u001b[0m 49.56   \u001b[0m | \u001b[0m 6.118   \u001b[0m | \u001b[0m 0.9893  \u001b[0m |\n",
            "| \u001b[0m 28      \u001b[0m | \u001b[0m 0.791   \u001b[0m | \u001b[0m 0.14    \u001b[0m | \u001b[0m 38.91   \u001b[0m | \u001b[0m 9.768   \u001b[0m | \u001b[0m 0.9477  \u001b[0m |\n",
            "| \u001b[0m 29      \u001b[0m | \u001b[0m 0.7724  \u001b[0m | \u001b[0m 0.9694  \u001b[0m | \u001b[0m 31.11   \u001b[0m | \u001b[0m 19.73   \u001b[0m | \u001b[0m 0.9026  \u001b[0m |\n",
            "| \u001b[0m 30      \u001b[0m | \u001b[0m 0.7799  \u001b[0m | \u001b[0m 0.9487  \u001b[0m | \u001b[0m 39.95   \u001b[0m | \u001b[0m 6.748   \u001b[0m | \u001b[0m 0.9342  \u001b[0m |\n",
            "| \u001b[0m 31      \u001b[0m | \u001b[0m 0.7799  \u001b[0m | \u001b[0m 0.1265  \u001b[0m | \u001b[0m 44.56   \u001b[0m | \u001b[0m 14.82   \u001b[0m | \u001b[0m 0.9707  \u001b[0m |\n",
            "| \u001b[0m 32      \u001b[0m | \u001b[0m 0.7761  \u001b[0m | \u001b[0m 0.1277  \u001b[0m | \u001b[0m 37.82   \u001b[0m | \u001b[0m 5.136   \u001b[0m | \u001b[0m 0.8944  \u001b[0m |\n",
            "| \u001b[0m 33      \u001b[0m | \u001b[0m 0.7463  \u001b[0m | \u001b[0m 0.1466  \u001b[0m | \u001b[0m 45.78   \u001b[0m | \u001b[0m 3.798   \u001b[0m | \u001b[0m 0.7931  \u001b[0m |\n",
            "| \u001b[0m 34      \u001b[0m | \u001b[0m 0.6754  \u001b[0m | \u001b[0m 0.2027  \u001b[0m | \u001b[0m 34.2    \u001b[0m | \u001b[0m 9.206   \u001b[0m | \u001b[0m 0.1491  \u001b[0m |\n",
            "| \u001b[0m 35      \u001b[0m | \u001b[0m 0.653   \u001b[0m | \u001b[0m 1.0     \u001b[0m | \u001b[0m 8.332   \u001b[0m | \u001b[0m 20.0    \u001b[0m | \u001b[0m 0.1     \u001b[0m |\n",
            "| \u001b[0m 36      \u001b[0m | \u001b[0m 0.791   \u001b[0m | \u001b[0m 1.0     \u001b[0m | \u001b[0m 17.14   \u001b[0m | \u001b[0m 13.21   \u001b[0m | \u001b[0m 1.0     \u001b[0m |\n",
            "| \u001b[0m 37      \u001b[0m | \u001b[0m 0.653   \u001b[0m | \u001b[0m 0.1     \u001b[0m | \u001b[0m 50.0    \u001b[0m | \u001b[0m 12.4    \u001b[0m | \u001b[0m 0.1     \u001b[0m |\n",
            "| \u001b[0m 38      \u001b[0m | \u001b[0m 0.7724  \u001b[0m | \u001b[0m 1.0     \u001b[0m | \u001b[0m 44.87   \u001b[0m | \u001b[0m 20.0    \u001b[0m | \u001b[0m 1.0     \u001b[0m |\n",
            "| \u001b[0m 39      \u001b[0m | \u001b[0m 0.7985  \u001b[0m | \u001b[0m 1.0     \u001b[0m | \u001b[0m 22.56   \u001b[0m | \u001b[0m 1.0     \u001b[0m | \u001b[0m 1.0     \u001b[0m |\n",
            "| \u001b[0m 40      \u001b[0m | \u001b[0m 0.7985  \u001b[0m | \u001b[0m 1.0     \u001b[0m | \u001b[0m 21.53   \u001b[0m | \u001b[0m 5.526   \u001b[0m | \u001b[0m 1.0     \u001b[0m |\n",
            "| \u001b[0m 41      \u001b[0m | \u001b[0m 0.7687  \u001b[0m | \u001b[0m 0.1393  \u001b[0m | \u001b[0m 20.27   \u001b[0m | \u001b[0m 19.35   \u001b[0m | \u001b[0m 0.9585  \u001b[0m |\n",
            "| \u001b[0m 42      \u001b[0m | \u001b[0m 0.7724  \u001b[0m | \u001b[0m 1.0     \u001b[0m | \u001b[0m 39.86   \u001b[0m | \u001b[0m 16.26   \u001b[0m | \u001b[0m 1.0     \u001b[0m |\n",
            "| \u001b[95m 43      \u001b[0m | \u001b[95m 0.8134  \u001b[0m | \u001b[95m 0.8581  \u001b[0m | \u001b[95m 19.31   \u001b[0m | \u001b[95m 1.808   \u001b[0m | \u001b[95m 0.9944  \u001b[0m |\n",
            "| \u001b[0m 44      \u001b[0m | \u001b[0m 0.653   \u001b[0m | \u001b[0m 0.1981  \u001b[0m | \u001b[0m 1.091   \u001b[0m | \u001b[0m 18.09   \u001b[0m | \u001b[0m 0.1576  \u001b[0m |\n",
            "| \u001b[0m 45      \u001b[0m | \u001b[0m 0.7724  \u001b[0m | \u001b[0m 0.2342  \u001b[0m | \u001b[0m 2.556   \u001b[0m | \u001b[0m 9.133   \u001b[0m | \u001b[0m 0.9578  \u001b[0m |\n",
            "| \u001b[0m 46      \u001b[0m | \u001b[0m 0.7799  \u001b[0m | \u001b[0m 0.9849  \u001b[0m | \u001b[0m 25.95   \u001b[0m | \u001b[0m 14.61   \u001b[0m | \u001b[0m 0.9655  \u001b[0m |\n",
            "| \u001b[0m 47      \u001b[0m | \u001b[0m 0.7985  \u001b[0m | \u001b[0m 0.9683  \u001b[0m | \u001b[0m 6.28    \u001b[0m | \u001b[0m 1.301   \u001b[0m | \u001b[0m 0.1113  \u001b[0m |\n",
            "| \u001b[0m 48      \u001b[0m | \u001b[0m 0.7724  \u001b[0m | \u001b[0m 1.0     \u001b[0m | \u001b[0m 1.0     \u001b[0m | \u001b[0m 1.0     \u001b[0m | \u001b[0m 0.1     \u001b[0m |\n",
            "| \u001b[0m 49      \u001b[0m | \u001b[0m 0.7761  \u001b[0m | \u001b[0m 0.9345  \u001b[0m | \u001b[0m 20.43   \u001b[0m | \u001b[0m 2.359   \u001b[0m | \u001b[0m 0.1082  \u001b[0m |\n",
            "| \u001b[0m 50      \u001b[0m | \u001b[0m 0.7873  \u001b[0m | \u001b[0m 0.1     \u001b[0m | \u001b[0m 19.28   \u001b[0m | \u001b[0m 15.88   \u001b[0m | \u001b[0m 1.0     \u001b[0m |\n",
            "| \u001b[0m 51      \u001b[0m | \u001b[0m 0.7873  \u001b[0m | \u001b[0m 1.0     \u001b[0m | \u001b[0m 18.2    \u001b[0m | \u001b[0m 8.27    \u001b[0m | \u001b[0m 1.0     \u001b[0m |\n",
            "| \u001b[0m 52      \u001b[0m | \u001b[0m 0.7836  \u001b[0m | \u001b[0m 0.2914  \u001b[0m | \u001b[0m 49.85   \u001b[0m | \u001b[0m 19.94   \u001b[0m | \u001b[0m 0.9364  \u001b[0m |\n",
            "| \u001b[0m 53      \u001b[0m | \u001b[0m 0.8097  \u001b[0m | \u001b[0m 0.8741  \u001b[0m | \u001b[0m 49.99   \u001b[0m | \u001b[0m 1.136   \u001b[0m | \u001b[0m 0.1357  \u001b[0m |\n",
            "| \u001b[0m 54      \u001b[0m | \u001b[0m 0.7948  \u001b[0m | \u001b[0m 0.1     \u001b[0m | \u001b[0m 4.27    \u001b[0m | \u001b[0m 3.082   \u001b[0m | \u001b[0m 0.1     \u001b[0m |\n",
            "| \u001b[0m 55      \u001b[0m | \u001b[0m 0.7799  \u001b[0m | \u001b[0m 0.9386  \u001b[0m | \u001b[0m 6.589   \u001b[0m | \u001b[0m 4.165   \u001b[0m | \u001b[0m 0.972   \u001b[0m |\n",
            "| \u001b[0m 56      \u001b[0m | \u001b[0m 0.7799  \u001b[0m | \u001b[0m 0.815   \u001b[0m | \u001b[0m 50.0    \u001b[0m | \u001b[0m 3.987   \u001b[0m | \u001b[0m 0.1742  \u001b[0m |\n",
            "| \u001b[0m 57      \u001b[0m | \u001b[0m 0.7948  \u001b[0m | \u001b[0m 0.3347  \u001b[0m | \u001b[0m 49.93   \u001b[0m | \u001b[0m 1.014   \u001b[0m | \u001b[0m 0.9952  \u001b[0m |\n",
            "| \u001b[0m 58      \u001b[0m | \u001b[0m 0.7687  \u001b[0m | \u001b[0m 0.1007  \u001b[0m | \u001b[0m 44.2    \u001b[0m | \u001b[0m 10.17   \u001b[0m | \u001b[0m 0.96    \u001b[0m |\n",
            "| \u001b[0m 59      \u001b[0m | \u001b[0m 0.7724  \u001b[0m | \u001b[0m 1.0     \u001b[0m | \u001b[0m 3.449   \u001b[0m | \u001b[0m 17.98   \u001b[0m | \u001b[0m 1.0     \u001b[0m |\n",
            "| \u001b[0m 60      \u001b[0m | \u001b[0m 0.7948  \u001b[0m | \u001b[0m 0.9158  \u001b[0m | \u001b[0m 18.52   \u001b[0m | \u001b[0m 3.353   \u001b[0m | \u001b[0m 0.9709  \u001b[0m |\n",
            "| \u001b[0m 61      \u001b[0m | \u001b[0m 0.75    \u001b[0m | \u001b[0m 0.1133  \u001b[0m | \u001b[0m 17.61   \u001b[0m | \u001b[0m 1.363   \u001b[0m | \u001b[0m 0.9659  \u001b[0m |\n",
            "| \u001b[0m 62      \u001b[0m | \u001b[0m 0.7836  \u001b[0m | \u001b[0m 0.8098  \u001b[0m | \u001b[0m 14.57   \u001b[0m | \u001b[0m 6.002   \u001b[0m | \u001b[0m 0.7593  \u001b[0m |\n",
            "| \u001b[0m 63      \u001b[0m | \u001b[0m 0.7799  \u001b[0m | \u001b[0m 0.1305  \u001b[0m | \u001b[0m 13.79   \u001b[0m | \u001b[0m 14.99   \u001b[0m | \u001b[0m 0.9647  \u001b[0m |\n",
            "| \u001b[0m 64      \u001b[0m | \u001b[0m 0.7724  \u001b[0m | \u001b[0m 0.8197  \u001b[0m | \u001b[0m 26.4    \u001b[0m | \u001b[0m 19.26   \u001b[0m | \u001b[0m 0.9396  \u001b[0m |\n",
            "| \u001b[0m 65      \u001b[0m | \u001b[0m 0.7799  \u001b[0m | \u001b[0m 0.1     \u001b[0m | \u001b[0m 37.88   \u001b[0m | \u001b[0m 7.35    \u001b[0m | \u001b[0m 1.0     \u001b[0m |\n",
            "=========================================================================\n"
          ],
          "name": "stdout"
        }
      ]
    },
    {
      "cell_type": "code",
      "metadata": {
        "colab": {
          "base_uri": "https://localhost:8080/"
        },
        "id": "hhOIJqupAHnZ",
        "outputId": "4486eb3e-4cce-49e0-a5b2-92665674469d"
      },
      "source": [
        "optimized_params = xgb_bo.max['params']\n",
        "optimized_params['max_depth'] = int(optimized_params['max_depth'])\n",
        "optimized_params"
      ],
      "execution_count": 157,
      "outputs": [
        {
          "output_type": "execute_result",
          "data": {
            "text/plain": [
              "{'colsample_bytree': 0.8581395042489772,\n",
              " 'max_depth': 19,\n",
              " 'min_child_weight': 1.8082255658216937,\n",
              " 'subsample': 0.9943584053999677}"
            ]
          },
          "metadata": {
            "tags": []
          },
          "execution_count": 157
        }
      ]
    },
    {
      "cell_type": "code",
      "metadata": {
        "id": "gKpYiGxGI7J6"
      },
      "source": [
        "fixed_params = {'metric':'error',\n",
        "                'objective':'binary:logistic',\n",
        "                'n_estimators':50000,\n",
        "                'random_state':seed,\n",
        "                'booster':'gbtree',\n",
        "                'learning_rate':0.01}"
      ],
      "execution_count": 158,
      "outputs": []
    },
    {
      "cell_type": "code",
      "metadata": {
        "colab": {
          "base_uri": "https://localhost:8080/"
        },
        "id": "pq5gngI6JqSg",
        "outputId": "59e75c2e-c2e2-4b08-bbe6-3b8fc82b5481"
      },
      "source": [
        "cls = xgb.XGBClassifier()\n",
        "cls.set_params(**fixed_params, **optimized_params)\n",
        "cls.fit(X_train,\n",
        "        y_train,\n",
        "        early_stopping_rounds=50,\n",
        "        eval_set=[(X_test, y_test)],\n",
        "        eval_metric='error',\n",
        "        verbose=0)"
      ],
      "execution_count": 159,
      "outputs": [
        {
          "output_type": "execute_result",
          "data": {
            "text/plain": [
              "XGBClassifier(base_score=0.5, booster='gbtree', colsample_bylevel=1,\n",
              "              colsample_bynode=1, colsample_bytree=0.8581395042489772, gamma=0,\n",
              "              learning_rate=0.01, max_delta_step=0, max_depth=19,\n",
              "              metric='error', min_child_weight=1.8082255658216937, missing=None,\n",
              "              n_estimators=50000, n_jobs=1, nthread=None,\n",
              "              objective='binary:logistic', random_state=88, reg_alpha=0,\n",
              "              reg_lambda=1, scale_pos_weight=1, seed=None, silent=None,\n",
              "              subsample=0.9943584053999677, verbosity=1)"
            ]
          },
          "metadata": {
            "tags": []
          },
          "execution_count": 159
        }
      ]
    },
    {
      "cell_type": "code",
      "metadata": {
        "id": "aKHUKoFVJTOJ"
      },
      "source": [
        "pred = cls.predict(test)\n",
        "PassengerId = np.array(test['PassengerId']).astype(int)\n",
        "\n",
        "sol = pd.DataFrame(pred, PassengerId, columns=['Survived'])\n",
        "sol.to_csv(\"my_pred.csv\", index_label=[\"PassengerId\"])"
      ],
      "execution_count": 160,
      "outputs": []
    }
  ]
}